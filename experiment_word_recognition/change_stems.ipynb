{
 "cells": [
  {
   "cell_type": "code",
   "execution_count": 1,
   "metadata": {},
   "outputs": [],
   "source": [
    "import pickle\n",
    "from pathlib import Path"
   ]
  },
  {
   "cell_type": "code",
   "execution_count": 2,
   "metadata": {},
   "outputs": [],
   "source": [
    "manifest_path = \"speaker_array_manifests/pilot_azimiuth_expt_v02_array_manifest.pkl\"\n",
    "\n",
    "exp_manifest = pickle.load(open(manifest_path, 'rb'))"
   ]
  },
  {
   "cell_type": "code",
   "execution_count": 3,
   "metadata": {},
   "outputs": [],
   "source": [
    "# exp_manifest"
   ]
  },
  {
   "cell_type": "code",
   "execution_count": 4,
   "metadata": {},
   "outputs": [
    {
     "name": "stdout",
     "output_type": "stream",
     "text": [
      "\u001b[34mhuman_attn_experiment_v00\u001b[m\u001b[m\n"
     ]
    }
   ],
   "source": [
    "!ls /Users/mcdermottspeakerarray/Documents/binaural_cocktail_party/sounds"
   ]
  },
  {
   "cell_type": "code",
   "execution_count": 5,
   "metadata": {},
   "outputs": [],
   "source": [
    "\n",
    "new_path = Path(\"/Users/mcdermottspeakerarray/Documents/binaural_cocktail_party/sounds/\")\n",
    "local_manifest = []\n",
    "for trial in exp_manifest:\n",
    "    new_trial = trial[:2]\n",
    "    for file in trial[2:]:\n",
    "        rel_fname= file.split('assets/')[-1]\n",
    "        new_fname = new_path / rel_fname\n",
    "        new_trial += (new_fname,)\n",
    "    local_manifest.append(new_trial)"
   ]
  },
  {
   "cell_type": "code",
   "execution_count": 6,
   "metadata": {},
   "outputs": [],
   "source": [
    "with open('new_exp_pilot_manifest.pkl', 'wb') as f:\n",
    "    pickle.dump(local_manifest, f)"
   ]
  },
  {
   "cell_type": "code",
   "execution_count": 7,
   "metadata": {},
   "outputs": [],
   "source": [
    "# create trial dict \n",
    "with open('new_exp_pilot_manifest_trial_dict.pkl', 'wb') as f:\n",
    "    data = {ix: data for ix, data in enumerate(local_manifest)}\n",
    "    pickle.dump(data, f)"
   ]
  },
  {
   "cell_type": "code",
   "execution_count": 8,
   "metadata": {},
   "outputs": [],
   "source": [
    "# create trial json manifest mapping \n",
    "target_word_manifest = [trial[3].stem.split('_')[0] for trial in data.values()]\n",
    "# save as json \n",
    "import json \n",
    "with open('new_exp_trial_target_manifest.json', 'w') as fp:\n",
    "    json.dump(target_word_manifest, fp, indent=4)"
   ]
  },
  {
   "cell_type": "code",
   "execution_count": 9,
   "metadata": {},
   "outputs": [
    {
     "data": {
      "text/plain": [
       "150"
      ]
     },
     "execution_count": 9,
     "metadata": {},
     "output_type": "execute_result"
    }
   ],
   "source": [
    "len(target_word_manifest)"
   ]
  },
  {
   "cell_type": "code",
   "execution_count": 10,
   "metadata": {},
   "outputs": [
    {
     "data": {
      "text/plain": [
       "150"
      ]
     },
     "execution_count": 10,
     "metadata": {},
     "output_type": "execute_result"
    }
   ],
   "source": [
    "len(target_word_manifest)"
   ]
  },
  {
   "cell_type": "code",
   "execution_count": 10,
   "metadata": {},
   "outputs": [
    {
     "data": {
      "text/plain": [
       "[{'rt': 22423,\n",
       "  'response': 'health',\n",
       "  'response_str': 'Health',\n",
       "  'correct_response': 'students',\n",
       "  'trial_num': 0,\n",
       "  'trial_type': 'dictionary-text',\n",
       "  'trial_index': 0,\n",
       "  'time_elapsed': 22426,\n",
       "  'internal_node_id': '0.0-0.0-0.0',\n",
       "  'correct': 0,\n",
       "  'n_correct': 0,\n",
       "  'n_incorrect': 1}]"
      ]
     },
     "execution_count": 10,
     "metadata": {},
     "output_type": "execute_result"
    }
   ],
   "source": [
    "data = {'action': 'store_data', 'data': '[{\"rt\":22423,\"response\":\"health\",\"response_str\":\"Health\",\"correct_response\":\"students\",\"trial_num\":0,\"trial_type\":\"dictionary-text\",\"trial_index\":0,\"time_elapsed\":22426,\"internal_node_id\":\"0.0-0.0-0.0\",\"correct\":0,\"n_correct\":0,\"n_incorrect\":1}]'}\n",
    "import json\n",
    "\n",
    "json.loads(data['data'])"
   ]
  },
  {
   "cell_type": "code",
   "execution_count": 11,
   "metadata": {},
   "outputs": [
    {
     "data": {
      "text/plain": [
       "'[{\"rt\":22423,\"response\":\"health\",\"response_str\":\"Health\",\"correct_response\":\"students\",\"trial_num\":0,\"trial_type\":\"dictionary-text\",\"trial_index\":0,\"time_elapsed\":22426,\"internal_node_id\":\"0.0-0.0-0.0\",\"correct\":0,\"n_correct\":0,\"n_incorrect\":1}]'"
      ]
     },
     "execution_count": 11,
     "metadata": {},
     "output_type": "execute_result"
    }
   ],
   "source": [
    "data['data']"
   ]
  }
 ],
 "metadata": {
  "kernelspec": {
   "display_name": "Python 3",
   "language": "python",
   "name": "python3"
  },
  "language_info": {
   "codemirror_mode": {
    "name": "ipython",
    "version": 3
   },
   "file_extension": ".py",
   "mimetype": "text/x-python",
   "name": "python",
   "nbconvert_exporter": "python",
   "pygments_lexer": "ipython3",
   "version": "3.10.4"
  },
  "orig_nbformat": 4
 },
 "nbformat": 4,
 "nbformat_minor": 2
}
