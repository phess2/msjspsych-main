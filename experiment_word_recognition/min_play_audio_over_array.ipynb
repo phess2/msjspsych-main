{
 "cells": [
  {
   "cell_type": "code",
   "execution_count": 1,
   "metadata": {},
   "outputs": [],
   "source": [
    "import sys \n",
    "sys.path.append('/Users/mcdermottspeakerarray/Documents/binaural_cocktail_party/SpeakerArray')\n",
    "from src.utils import speaker_utils\n",
    "import numpy as np\n",
    "import pickle\n",
    "import asyncio\n",
    "from scipy.io import wavfile\n",
    "import sounddevice as sd\n"
   ]
  },
  {
   "cell_type": "code",
   "execution_count": 7,
   "metadata": {},
   "outputs": [],
   "source": [
    "noise = speaker_utils.whitenoise(1, 44100, dba=65)\n",
    "dev = speaker_utils.set_DAC()\n",
    "speaker_config = speaker_utils.create_speaker_config('/Users/mcdermottspeakerarray/Documents/binaural_cocktail_party/SpeakerArray/assets/Layouts/NewSpeakerLayoutUpdate.csv')\n",
    "\n",
    "await speaker_utils.force_unroute_all(speaker_config)\n",
    "\n",
    "# for i in np.arange(-90,91, 10):\n",
    "# print(i)\n",
    "await speaker_utils.route_speakers([(90, 0)], 0, speaker_config)\n",
    "sd.play(noise)"
   ]
  },
  {
   "cell_type": "code",
   "execution_count": 7,
   "metadata": {},
   "outputs": [],
   "source": [
    "sd.stop()"
   ]
  },
  {
   "cell_type": "code",
   "execution_count": null,
   "metadata": {},
   "outputs": [],
   "source": []
  }
 ],
 "metadata": {
  "kernelspec": {
   "display_name": "Python 3",
   "language": "python",
   "name": "python3"
  },
  "language_info": {
   "codemirror_mode": {
    "name": "ipython",
    "version": 3
   },
   "file_extension": ".py",
   "mimetype": "text/x-python",
   "name": "python",
   "nbconvert_exporter": "python",
   "pygments_lexer": "ipython3",
   "version": "3.10.4"
  }
 },
 "nbformat": 4,
 "nbformat_minor": 2
}
