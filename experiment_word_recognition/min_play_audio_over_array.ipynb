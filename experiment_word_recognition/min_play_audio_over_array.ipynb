{
 "cells": [
  {
   "cell_type": "code",
   "execution_count": 1,
   "metadata": {},
   "outputs": [],
   "source": [
    "import sys \n",
    "sys.path.append('/Users/mcdermottspeakerarray/Documents/binaural_cocktail_party/SpeakerArray')\n",
    "from src.utils import speaker_utils\n",
    "import numpy as np\n",
    "import pickle\n",
    "import asyncio\n",
    "from scipy.io import wavfile\n",
    "import sounddevice as sd\n",
    "import itertools \n",
    "from src.utils import speaker_utils\n"
   ]
  },
  {
   "cell_type": "markdown",
   "metadata": {},
   "source": [
    "## To test \n",
    "(-90,-20)  and (-90,-10)"
   ]
  },
  {
   "cell_type": "code",
   "execution_count": 2,
   "metadata": {},
   "outputs": [],
   "source": [
    "noise = speaker_utils.whitenoise(0.1, 44100, dba=40)\n",
    "dev = speaker_utils.set_DAC()\n",
    "speaker_config = speaker_utils.create_speaker_config('/Users/mcdermottspeakerarray/Documents/binaural_cocktail_party/SpeakerArray/assets/Layouts/NewSpeakerLayoutUpdate.csv')\n",
    "\n",
    "await speaker_utils.force_unroute_all(speaker_config)\n",
    "\n",
    "# await speaker_utils.location_verify(speaker_config, noise)\n",
    "all_azimz = np.arange(-90,91,10)\n",
    "all_elev = np.arange(-20,41,10)\n",
    "all_pairs = itertools.product(*[all_azimz, all_elev])\n",
    "for pair in all_pairs:\n",
    "    # print(pair)\n",
    "    await speaker_utils.route_speakers([pair], 0, speaker_config)\n",
    "    sd.play(noise, blocking=True)"
   ]
  },
  {
   "cell_type": "code",
   "execution_count": 1,
   "metadata": {},
   "outputs": [
    {
     "ename": "NameError",
     "evalue": "name 'sd' is not defined",
     "output_type": "error",
     "traceback": [
      "\u001b[0;31m---------------------------------------------------------------------------\u001b[0m",
      "\u001b[0;31mNameError\u001b[0m                                 Traceback (most recent call last)",
      "Input \u001b[0;32mIn [1]\u001b[0m, in \u001b[0;36m<cell line: 1>\u001b[0;34m()\u001b[0m\n\u001b[0;32m----> 1\u001b[0m \u001b[43msd\u001b[49m\u001b[38;5;241m.\u001b[39mstop()\n",
      "\u001b[0;31mNameError\u001b[0m: name 'sd' is not defined"
     ]
    }
   ],
   "source": [
    "sd.stop()"
   ]
  },
  {
   "cell_type": "code",
   "execution_count": null,
   "metadata": {},
   "outputs": [],
   "source": []
  }
 ],
 "metadata": {
  "kernelspec": {
   "display_name": "Python 3",
   "language": "python",
   "name": "python3"
  },
  "language_info": {
   "codemirror_mode": {
    "name": "ipython",
    "version": 3
   },
   "file_extension": ".py",
   "mimetype": "text/x-python",
   "name": "python",
   "nbconvert_exporter": "python",
   "pygments_lexer": "ipython3",
   "version": "3.10.4"
  }
 },
 "nbformat": 4,
 "nbformat_minor": 2
}
