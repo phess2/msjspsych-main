{
 "cells": [
  {
   "cell_type": "code",
   "execution_count": 5,
   "metadata": {},
   "outputs": [],
   "source": [
    "import sys \n",
    "sys.path.append('/Users/mcdermottspeakerarray/Documents/binaural_cocktail_party/SpeakerArray')\n",
    "from src.utils import speaker_utils\n",
    "import numpy as np\n",
    "import pickle\n",
    "import asyncio\n",
    "from scipy.io import wavfile\n",
    "import sounddevice as sd\n",
    "import itertools \n",
    "from src.utils import speaker_utils\n"
   ]
  },
  {
   "cell_type": "code",
   "execution_count": 6,
   "metadata": {},
   "outputs": [
    {
     "data": {
      "text/plain": [
       "'16A'"
      ]
     },
     "execution_count": 6,
     "metadata": {},
     "output_type": "execute_result"
    }
   ],
   "source": [
    "speaker_utils.set_DAC()"
   ]
  },
  {
   "cell_type": "code",
   "execution_count": 3,
   "metadata": {},
   "outputs": [],
   "source": [
    "speaker_config = speaker_utils.create_speaker_config('/Users/mcdermottspeakerarray/Documents/binaural_cocktail_party/SpeakerArray/assets/Layouts/NewSpeakerLayoutUpdate.csv')\n",
    "azims = range(-90, 91, 10)\n",
    "elevs = range(-20, 41, 10)\n",
    "for azim in azims:\n",
    "    for elev in elevs:\n",
    "        if azim < 0:\n",
    "            await speaker_utils.route_speakers([(azim, elev),], 1, speaker_config)\n",
    "        else:\n",
    "            await speaker_utils.route_speakers([(azim, elev),], 0, speaker_config)"
   ]
  },
  {
   "cell_type": "code",
   "execution_count": 7,
   "metadata": {},
   "outputs": [],
   "source": [
    "await speaker_utils.force_unroute_all(speaker_config)"
   ]
  },
  {
   "cell_type": "markdown",
   "metadata": {},
   "source": [
    "## To test \n",
    "(-90,-20)  and (-90,-10)"
   ]
  },
  {
   "cell_type": "code",
   "execution_count": 9,
   "metadata": {},
   "outputs": [],
   "source": [
    "noise = speaker_utils.whitenoise(.1, 44100, dba=45)\n",
    "dev = speaker_utils.set_DAC()\n",
    "speaker_config = speaker_utils.create_speaker_config('/Users/mcdermottspeakerarray/Documents/binaural_cocktail_party/SpeakerArray/assets/Layouts/NewSpeakerLayoutUpdate.csv')\n",
    "\n",
    "await speaker_utils.force_unroute_all(speaker_config)\n",
    "\n",
    "# await speaker_utils.location_verify(speaker_config, noise)\n",
    "all_azimz = [0, -10, 10, -60, 60]\n",
    "all_elev = [-20, 0, 40]\n",
    "all_pairs = itertools.product(*[all_azimz, all_elev])\n",
    "for azim in all_azimz:\n",
    "    for elev in all_elev:\n",
    "        pair = (azim, elev)\n",
    "    # print(pair)\n",
    "        await speaker_utils.route_speakers([pair], 0, speaker_config)\n",
    "        sd.play(noise, blocking=True)"
   ]
  },
  {
   "cell_type": "code",
   "execution_count": 10,
   "metadata": {},
   "outputs": [],
   "source": [
    "sd.stop()"
   ]
  },
  {
   "cell_type": "code",
   "execution_count": null,
   "metadata": {},
   "outputs": [],
   "source": []
  }
 ],
 "metadata": {
  "kernelspec": {
   "display_name": "Python 3",
   "language": "python",
   "name": "python3"
  },
  "language_info": {
   "codemirror_mode": {
    "name": "ipython",
    "version": 3
   },
   "file_extension": ".py",
   "mimetype": "text/x-python",
   "name": "python",
   "nbconvert_exporter": "python",
   "pygments_lexer": "ipython3",
   "version": "3.10.10"
  }
 },
 "nbformat": 4,
 "nbformat_minor": 2
}
