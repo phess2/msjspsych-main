{
 "cells": [
  {
   "cell_type": "code",
   "execution_count": 2,
   "metadata": {},
   "outputs": [],
   "source": [
    "#azims 0, 10, 20, 40, 80\n",
    "#eleves, 0, 10, 40\n",
    "#opposite and same sex\n",
    "\n",
    "array_azims = list(range(-90, 91, 10))\n",
    "array_elevs = list(range(-20, 41, 10))"
   ]
  },
  {
   "cell_type": "code",
   "execution_count": 3,
   "metadata": {},
   "outputs": [],
   "source": [
    "azim_deltas = [-80, -40, -20, -10, 0, 10, 20, 40, 80]\n",
    "elev_deltas = [-40, -10, 0, 10, 40]\n",
    "\n",
    "azim_elev_combos = dict()\n",
    "\n",
    "for delta in azim_deltas:\n",
    "    combos_within = []\n",
    "    combos_crossed = []\n",
    "    for azim in array_azims:\n",
    "        if azim + delta in array_azims:\n",
    "            azim2 = azim + delta\n",
    "            if azim * azim2 < 0:\n",
    "                combos_crossed.append((azim, azim2))\n",
    "            else:\n",
    "                combos_within.append((azim, azim2))\n",
    "    azim_elev_combos[f'azim_{delta}_within'] = combos_within\n",
    "    azim_elev_combos[f'azim_{delta}_crossed'] = combos_crossed\n",
    "\n",
    "for delta in elev_deltas:\n",
    "    combos = []\n",
    "    for elev in array_elevs:\n",
    "        if elev + delta in array_elevs:\n",
    "            elev2 = elev + delta\n",
    "            combos.append((elev, elev2))\n",
    "    azim_elev_combos[f'elev_{delta}'] = combos"
   ]
  },
  {
   "cell_type": "code",
   "execution_count": 4,
   "metadata": {},
   "outputs": [],
   "source": [
    "import pickle\n",
    "\n",
    "# with open('azim_elev_combos.pkl', 'wb') as f:\n",
    "#     pickle.dump(azim_elev_combos, f)"
   ]
  },
  {
   "cell_type": "code",
   "execution_count": 5,
   "metadata": {},
   "outputs": [
    {
     "data": {
      "text/plain": [
       "[(10, -10)]"
      ]
     },
     "execution_count": 5,
     "metadata": {},
     "output_type": "execute_result"
    }
   ],
   "source": [
    "azim_elev_combos['azim_-20_crossed']"
   ]
  },
  {
   "cell_type": "code",
   "execution_count": 1,
   "metadata": {},
   "outputs": [],
   "source": [
    "import random\n",
    "from copy import deepcopy\n",
    "import pickle\n",
    "import pandas"
   ]
  },
  {
   "cell_type": "code",
   "execution_count": 2,
   "metadata": {},
   "outputs": [],
   "source": [
    "def draw_block(combo_dict):\n",
    "    \"\"\"\n",
    "    drawing set of 90 locations for trials\n",
    "    \"\"\"\n",
    "    trials = []\n",
    "\n",
    "    cross_dict = {\n",
    "        80: random.choice([6, 7]),\n",
    "        40: 2,\n",
    "        20 : random.choice([0, 1]),\n",
    "        10: 0,\n",
    "        0: 0,\n",
    "        -10: 0,\n",
    "        -40: 2,\n",
    "    }\n",
    "    cross_dict[-80] = 13 - cross_dict[80]\n",
    "    cross_dict[-20] = 1 - cross_dict[20]\n",
    "\n",
    "    azim_deltas = [-80, -40, -20, -10, 0, 10, 20, 40, 80]\n",
    "    elev_deltas = [-40, -10, 0, 10, 40]\n",
    "    sex = ['same', 'opposite']\n",
    "\n",
    "    dict_copy = deepcopy(combo_dict)\n",
    "    for a_delta in azim_deltas:\n",
    "        for e_delta in elev_deltas:\n",
    "            for s in sex:\n",
    "                cross = False\n",
    "                if cross_dict[a_delta]:\n",
    "                    cross = True\n",
    "                    cross_dict[a_delta] -= 1\n",
    "\n",
    "                if cross:\n",
    "                    azims = dict_copy[f'azim_{a_delta}_crossed'].pop(random.randrange(len(dict_copy[f'azim_{a_delta}_crossed'])))\n",
    "                else:\n",
    "                    azims = dict_copy[f'azim_{a_delta}_within'].pop(random.randrange(len(dict_copy[f'azim_{a_delta}_within'])))\n",
    "\n",
    "                elevs = random.sample(dict_copy[f'elev_{e_delta}'], 1)[0]\n",
    "                trials.append(((azims[0], elevs[0]), (azims[1], elevs[1]), s, cross, a_delta, e_delta))\n",
    "    return trials"
   ]
  },
  {
   "cell_type": "code",
   "execution_count": 3,
   "metadata": {},
   "outputs": [],
   "source": [
    "def draw_block_0_azim():\n",
    "    trials = []\n",
    "    target_locs = [-90, -30, 0, 30, 90]\n",
    "    distractor_locs = [-90, -30, 0, 30, 90]\n",
    "    for t in target_locs:\n",
    "        for d in distractor_locs:\n",
    "            for s in ['same', 'opposite']:\n",
    "                if t*d >= 0:\n",
    "                    cross = False\n",
    "                else:\n",
    "                    cross = True\n",
    "                a_delta = d - t\n",
    "                trial = ((t, 0), (d, 0), s, cross, a_delta, 0)\n",
    "                trials.append(trial)\n",
    "    return trials"
   ]
  },
  {
   "cell_type": "code",
   "execution_count": 4,
   "metadata": {},
   "outputs": [],
   "source": [
    "def draw_block_elev():\n",
    "    trials = []\n",
    "\n",
    "    azims = [-90, -30, 0, 30, 90]\n",
    "    target_elevs = [-20, 10, 40]\n",
    "    distractor_elevs = [-20, -10, 0, 10, 20, 30, 40]\n",
    "    target_locs = [(azim, elev) for azim in azims for elev in target_elevs]\n",
    "    distractor_locs = [(azim, elev) for azim in azims for elev in distractor_elevs]\n",
    "\n",
    "    for t in target_locs:\n",
    "        for d in distractor_locs:\n",
    "            for s in ['same', 'opposite']:\n",
    "                if t[0]*d[0] >= 0:\n",
    "                    cross = False\n",
    "                else:\n",
    "                    cross = True\n",
    "                a_delta = d[0] - t[0]\n",
    "                e_delta = d[1] - t[1]\n",
    "                trial = (t, d, s, cross, a_delta, e_delta)\n",
    "                trials.append(trial)\n",
    "    return trials"
   ]
  },
  {
   "cell_type": "markdown",
   "metadata": {},
   "source": [
    "## Remap names in manifest to gen trial dicts locally "
   ]
  },
  {
   "cell_type": "code",
   "execution_count": 5,
   "metadata": {},
   "outputs": [],
   "source": [
    "\n",
    "manifest = pandas.read_pickle('full_eval_trial_manifest_new_fnames.pdpkl')"
   ]
  },
  {
   "cell_type": "code",
   "execution_count": 6,
   "metadata": {},
   "outputs": [
    {
     "data": {
      "text/plain": [
       "Index(['distractor_client_id', 'distractor_clip_dur_in_s',\n",
       "       'distractor_clip_end_in_s', 'distractor_clip_start_in_s',\n",
       "       'distractor_corpus', 'distractor_gender', 'distractor_gender_int',\n",
       "       'distractor_split', 'distractor_split_int', 'distractor_sr',\n",
       "       'distractor_src_fn', 'distractor_total_file_duration_in_s',\n",
       "       'distractor_word', 'src_ix', 'client_id', 'clip_dur_in_s',\n",
       "       'clip_end_in_s', 'clip_start_in_s', 'corpus', 'gender', 'gender_int',\n",
       "       'split', 'split_int', 'sr', 'src_fn', 'total_file_duration_in_s',\n",
       "       'word', 'cue_word', 'cue_src_ix', 'cue_client_id', 'cue_src_fn',\n",
       "       'cue_clip_start_in_s', 'cue_clip_end_in_s', 'gender_cond_td',\n",
       "       'cue_clip_dur_in_s'],\n",
       "      dtype='object')"
      ]
     },
     "execution_count": 6,
     "metadata": {},
     "output_type": "execute_result"
    }
   ],
   "source": [
    "manifest.keys()"
   ]
  },
  {
   "cell_type": "code",
   "execution_count": 13,
   "metadata": {},
   "outputs": [],
   "source": [
    "manifest.cue_src_fn = manifest.cue_src_fn.str.replace('/om/user/imgriff/datasets/spatial_audio_pipeline/assets/',\n",
    "                                '/Users/mcdermottspeakerarray/Documents/binaural_cocktail_party/sounds/')"
   ]
  },
  {
   "cell_type": "code",
   "execution_count": 15,
   "metadata": {},
   "outputs": [],
   "source": [
    "manifest.distractor_src_fn = manifest.distractor_src_fn.str.replace('/om/user/imgriff/datasets/spatial_audio_pipeline/assets/',\n",
    "                                '/Users/mcdermottspeakerarray/Documents/binaural_cocktail_party/sounds/')"
   ]
  },
  {
   "cell_type": "code",
   "execution_count": null,
   "metadata": {},
   "outputs": [],
   "source": [
    "manifest.src_fn = manifest.src_fn.str.replace('/om/user/imgriff/datasets/spatial_audio_pipeline/assets/',\n",
    "                                '/Users/mcdermottspeakerarray/Documents/binaural_cocktail_party/sounds/')"
   ]
  },
  {
   "cell_type": "code",
   "execution_count": 16,
   "metadata": {},
   "outputs": [],
   "source": [
    "manifest.to_pickle(\"full_eval_trial_manifest_new_fnames_local_fnames.pdpkl\")"
   ]
  },
  {
   "cell_type": "code",
   "execution_count": 25,
   "metadata": {},
   "outputs": [
    {
     "name": "stdout",
     "output_type": "stream",
     "text": [
      "True\n",
      "True\n",
      "True\n"
     ]
    }
   ],
   "source": [
    "from pathlib import Path\n",
    "fn_exits = lambda x: Path(x).exists()\n",
    "print(manifest.src_fn.map(fn_exits).all())\n",
    "print(manifest.distractor_src_fn.map(fn_exits).all())\n",
    "print(manifest.cue_src_fn.map(fn_exits).all())\n",
    "\n"
   ]
  },
  {
   "cell_type": "markdown",
   "metadata": {},
   "source": [
    "## Get trials locally"
   ]
  },
  {
   "cell_type": "code",
   "execution_count": 26,
   "metadata": {},
   "outputs": [],
   "source": [
    "manifest = pandas.read_pickle('full_eval_trial_manifest_new_fnames_local_fnames.pdpkl')"
   ]
  },
  {
   "cell_type": "code",
   "execution_count": 27,
   "metadata": {},
   "outputs": [],
   "source": [
    "def create_experiment(manifest, num_blocks=4):\n",
    "    \"\"\"\n",
    "    create experiment with 4 blocks\n",
    "    \"\"\"\n",
    "    experiment = []\n",
    "    azim_elev_combos = pickle.load(open('azim_elev_combos.pkl', 'rb'))\n",
    "    for i in range(num_blocks):\n",
    "        block = draw_block(azim_elev_combos)\n",
    "        random.shuffle(block)\n",
    "        experiment.append(block)\n",
    "\n",
    "    words = list(manifest.word.unique())\n",
    "    random.shuffle(words)\n",
    "\n",
    "    same_gender = 'male_male'\n",
    "    opp_gender = 'male_female'\n",
    "    i = 0\n",
    "    array_manifest = []\n",
    "    for block in experiment:\n",
    "        for j, trial in enumerate(block):\n",
    "            trial_word = words[i]\n",
    "            i += 1\n",
    "\n",
    "            if trial[2] == 'same':\n",
    "                manifest_idx = manifest[(manifest['word'] == trial_word) & (manifest['gender_cond_td'] == f'{same_gender}')].index[0]\n",
    "                true_cond = same_gender\n",
    "                if same_gender == 'male_male':\n",
    "                    same_gender = 'female_female'\n",
    "                else:\n",
    "                    same_gender = 'male_male'\n",
    "\n",
    "            else:\n",
    "                manifest_idx = manifest[(manifest['word'] == trial_word) & (manifest['gender_cond_td'] == f'{opp_gender}')].index[0]\n",
    "                true_cond = opp_gender\n",
    "                if opp_gender == 'male_female':\n",
    "                    opp_gender = 'female_male'\n",
    "                else:\n",
    "                    opp_gender = 'male_female'\n",
    "            trial_row = manifest.iloc[manifest_idx]\n",
    "            cue_src_fn = trial_row['cue_src_fn']\n",
    "            target_src_fn = trial_row['src_fn']\n",
    "            distractor_src_fn = trial_row['distractor_src_fn']\n",
    "            distractor_word = trial_row['distractor_word']\n",
    "            block[j] = block[j] + (trial_word, true_cond, manifest_idx, distractor_word)\n",
    "            array_manifest.append((trial[0], trial[1], cue_src_fn, target_src_fn, distractor_src_fn))\n",
    "\n",
    "    experiment_data = dict()\n",
    "    for i, block in enumerate(experiment):\n",
    "        experiment_data[f'block_{i}'] = dict()\n",
    "        block_dict = experiment_data[f'block_{i}']\n",
    "        for j, trial in enumerate(block):\n",
    "            block_dict[f'trial_{j}'] = {'target_loc': trial[0],\n",
    "                                        'distractor_loc': trial[1],\n",
    "                                        'sex_cond': trial[7],\n",
    "                                        'crossed': trial[3],\n",
    "                                        'azim_delta': trial[4],\n",
    "                                        'elev_delta': trial[5],\n",
    "                                        'target_word': trial[6],\n",
    "                                        'distractor_word': trial[9]}\n",
    "\n",
    "    return experiment_data, array_manifest"
   ]
  },
  {
   "cell_type": "code",
   "execution_count": 31,
   "metadata": {},
   "outputs": [],
   "source": [
    "def create_new_experiment(manifest, num_azim_blocks=4, num_elev_blocks=2):\n",
    "    \"\"\"\n",
    "    create experiment with two types of blocks\n",
    "    \"\"\"\n",
    "    experiment = []\n",
    "    for i in range(num_azim_blocks):\n",
    "        block = draw_block_0_azim()\n",
    "        random.shuffle(block)\n",
    "        experiment.append(block)\n",
    "\n",
    "    for i in range(num_elev_blocks):\n",
    "        block = draw_block_elev()\n",
    "        random.shuffle(block)\n",
    "        experiment.append(block)\n",
    "\n",
    "    words = list(manifest.word.unique())\n",
    "    random.shuffle(words)\n",
    "\n",
    "    same_gender = 'male_male'\n",
    "    opp_gender = 'male_female'\n",
    "    i = 0\n",
    "    array_manifest = []\n",
    "    for block in experiment:\n",
    "        for j, trial in enumerate(block):\n",
    "            try:\n",
    "                trial_word = words[i]\n",
    "            except:\n",
    "                i = 0\n",
    "                trial_word = words[i]\n",
    "            i += 1\n",
    "\n",
    "            if trial[2] == 'same':\n",
    "                manifest_idx = manifest[(manifest['word'] == trial_word) & (manifest['gender_cond_td'] == f'{same_gender}')].index[0]\n",
    "                true_cond = same_gender\n",
    "                if same_gender == 'male_male':\n",
    "                    same_gender = 'female_female'\n",
    "                else:\n",
    "                    same_gender = 'male_male'\n",
    "\n",
    "            else:\n",
    "                manifest_idx = manifest[(manifest['word'] == trial_word) & (manifest['gender_cond_td'] == f'{opp_gender}')].index[0]\n",
    "                true_cond = opp_gender\n",
    "                if opp_gender == 'male_female':\n",
    "                    opp_gender = 'female_male'\n",
    "                else:\n",
    "                    opp_gender = 'male_female'\n",
    "            trial_row = manifest.iloc[manifest_idx]\n",
    "            cue_src_fn = trial_row['cue_src_fn']\n",
    "            target_src_fn = trial_row['src_fn']\n",
    "            distractor_src_fn = trial_row['distractor_src_fn']\n",
    "            distractor_word = trial_row['distractor_word']\n",
    "            block[j] = block[j] + (trial_word, true_cond, manifest_idx, distractor_word)\n",
    "            array_manifest.append((trial[0], trial[1], cue_src_fn, target_src_fn, distractor_src_fn))\n",
    "\n",
    "    experiment_data = dict()\n",
    "    for i, block in enumerate(experiment):\n",
    "        experiment_data[f'block_{i}'] = dict()\n",
    "        block_dict = experiment_data[f'block_{i}']\n",
    "        for j, trial in enumerate(block):\n",
    "            block_dict[f'trial_{j}'] = {'target_loc': trial[0],\n",
    "                                        'distractor_loc': trial[1],\n",
    "                                        'sex_cond': trial[7],\n",
    "                                        'crossed': trial[3],\n",
    "                                        'azim_delta': trial[4],\n",
    "                                        'elev_delta': trial[5],\n",
    "                                        'target_word': trial[6],\n",
    "                                        'distractor_word': trial[9]}\n",
    "    trial_dict = {i:vals for i,vals in enumerate(array_manifest)}\n",
    "    return experiment_data, array_manifest, trial_dict"
   ]
  },
  {
   "cell_type": "code",
   "execution_count": 33,
   "metadata": {},
   "outputs": [],
   "source": [
    "experiment, array_manifest, trial_dict = create_new_experiment(manifest, num_azim_blocks=3, num_elev_blocks=0)"
   ]
  },
  {
   "cell_type": "code",
   "execution_count": 34,
   "metadata": {},
   "outputs": [
    {
     "data": {
      "text/plain": [
       "[50, 50, 50]"
      ]
     },
     "execution_count": 34,
     "metadata": {},
     "output_type": "execute_result"
    }
   ],
   "source": [
    "[len(experiment[key]) for key in experiment.keys()]"
   ]
  },
  {
   "cell_type": "code",
   "execution_count": 38,
   "metadata": {},
   "outputs": [],
   "source": []
  },
  {
   "cell_type": "code",
   "execution_count": 35,
   "metadata": {},
   "outputs": [
    {
     "name": "stdout",
     "output_type": "stream",
     "text": [
      "participant_001\n"
     ]
    }
   ],
   "source": [
    "# write out manifests \n",
    "import pickle \n",
    "from pathlib import Path\n",
    "# get n files in output dir \n",
    "out_dir = Path('speaker_array_manifests/pilot_v02')\n",
    "out_dir.mkdir(exist_ok=True, parents=True)\n",
    "n_files = len(list(out_dir.glob('*manifest.pkl')))\n",
    "\n",
    "part_ix = f\"participant_{n_files+1:03d}\"\n",
    "print(part_ix)\n",
    "\n",
    "with open(out_dir / f'{part_ix}_pilot_azimiuth_expt_v02_meta.pkl', 'wb') as f:\n",
    "    pickle.dump(experiment, f)\n",
    "\n",
    "with open(out_dir / f'{part_ix}_pilot_azimiuth_expt_v02_array_manifest.pkl', 'wb') as f:\n",
    "    pickle.dump(array_manifest, f)\n",
    "\n",
    "with open(out_dir / f'{part_ix}_pilot_azimiuth_expt_v02_trial_dict.pkl', 'wb') as f:\n",
    "    pickle.dump(trial_dict, f)\n",
    "    \n",
    "# get target key list \n",
    "out_path = Path(\"expmt_keys\")\n",
    "\n",
    "word_key = [trial['target_word'] for block in experiment.values() for trial in block.values()]\n",
    "\n",
    "# save as json \n",
    "import json \n",
    "with open(out_path / f\"{part_ix}_key.json\", \"w\") as f:\n",
    "    json.dump(word_key, f)\n",
    "\n"
   ]
  }
 ],
 "metadata": {
  "kernelspec": {
   "display_name": "Python 3 (ipykernel)",
   "language": "python",
   "name": "python3"
  },
  "language_info": {
   "codemirror_mode": {
    "name": "ipython",
    "version": 3
   },
   "file_extension": ".py",
   "mimetype": "text/x-python",
   "name": "python",
   "nbconvert_exporter": "python",
   "pygments_lexer": "ipython3",
   "version": "3.10.4"
  },
  "orig_nbformat": 4
 },
 "nbformat": 4,
 "nbformat_minor": 2
}
