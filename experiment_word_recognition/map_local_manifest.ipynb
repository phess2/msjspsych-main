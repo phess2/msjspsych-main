{
 "cells": [
  {
   "cell_type": "code",
   "execution_count": 9,
   "metadata": {},
   "outputs": [],
   "source": [
    "import pandas"
   ]
  },
  {
   "cell_type": "markdown",
   "metadata": {},
   "source": [
    "## Remap names in manifest to gen trial dicts locally "
   ]
  },
  {
   "cell_type": "code",
   "execution_count": 5,
   "metadata": {},
   "outputs": [],
   "source": [
    "\n",
    "manifest = pandas.read_pickle('full_eval_trial_manifest_new_fnames.pdpkl')"
   ]
  },
  {
   "cell_type": "code",
   "execution_count": 6,
   "metadata": {},
   "outputs": [
    {
     "data": {
      "text/plain": [
       "Index(['distractor_client_id', 'distractor_clip_dur_in_s',\n",
       "       'distractor_clip_end_in_s', 'distractor_clip_start_in_s',\n",
       "       'distractor_corpus', 'distractor_gender', 'distractor_gender_int',\n",
       "       'distractor_split', 'distractor_split_int', 'distractor_sr',\n",
       "       'distractor_src_fn', 'distractor_total_file_duration_in_s',\n",
       "       'distractor_word', 'src_ix', 'client_id', 'clip_dur_in_s',\n",
       "       'clip_end_in_s', 'clip_start_in_s', 'corpus', 'gender', 'gender_int',\n",
       "       'split', 'split_int', 'sr', 'src_fn', 'total_file_duration_in_s',\n",
       "       'word', 'cue_word', 'cue_src_ix', 'cue_client_id', 'cue_src_fn',\n",
       "       'cue_clip_start_in_s', 'cue_clip_end_in_s', 'gender_cond_td',\n",
       "       'cue_clip_dur_in_s'],\n",
       "      dtype='object')"
      ]
     },
     "execution_count": 6,
     "metadata": {},
     "output_type": "execute_result"
    }
   ],
   "source": [
    "manifest.keys()"
   ]
  },
  {
   "cell_type": "code",
   "execution_count": 13,
   "metadata": {},
   "outputs": [],
   "source": [
    "manifest.cue_src_fn = manifest.cue_src_fn.str.replace('/om/user/imgriff/datasets/spatial_audio_pipeline/assets/',\n",
    "                                '/Users/mcdermottspeakerarray/Documents/binaural_cocktail_party/sounds/')"
   ]
  },
  {
   "cell_type": "code",
   "execution_count": 15,
   "metadata": {},
   "outputs": [],
   "source": [
    "manifest.distractor_src_fn = manifest.distractor_src_fn.str.replace('/om/user/imgriff/datasets/spatial_audio_pipeline/assets/',\n",
    "                                '/Users/mcdermottspeakerarray/Documents/binaural_cocktail_party/sounds/')"
   ]
  },
  {
   "cell_type": "code",
   "execution_count": null,
   "metadata": {},
   "outputs": [],
   "source": [
    "manifest.src_fn = manifest.src_fn.str.replace('/om/user/imgriff/datasets/spatial_audio_pipeline/assets/',\n",
    "                                '/Users/mcdermottspeakerarray/Documents/binaural_cocktail_party/sounds/')"
   ]
  },
  {
   "cell_type": "code",
   "execution_count": 16,
   "metadata": {},
   "outputs": [],
   "source": [
    "manifest.to_pickle(\"full_eval_trial_manifest_new_fnames_local_fnames.pdpkl\")"
   ]
  },
  {
   "cell_type": "code",
   "execution_count": 3,
   "metadata": {},
   "outputs": [
    {
     "ename": "NameError",
     "evalue": "name 'manifest' is not defined",
     "output_type": "error",
     "traceback": [
      "\u001b[0;31m---------------------------------------------------------------------------\u001b[0m",
      "\u001b[0;31mNameError\u001b[0m                                 Traceback (most recent call last)",
      "\u001b[1;32m/Users/mcdermottspeakerarray/Documents/binaural_cocktail_party/msjspsych-main/experiment_word_recognition/gen_participant_trials.ipynb Cell 16\u001b[0m line \u001b[0;36m<cell line: 3>\u001b[0;34m()\u001b[0m\n\u001b[1;32m      <a href='vscode-notebook-cell:/Users/mcdermottspeakerarray/Documents/binaural_cocktail_party/msjspsych-main/experiment_word_recognition/gen_participant_trials.ipynb#X21sZmlsZQ%3D%3D?line=0'>1</a>\u001b[0m \u001b[39mfrom\u001b[39;00m \u001b[39mpathlib\u001b[39;00m \u001b[39mimport\u001b[39;00m Path\n\u001b[1;32m      <a href='vscode-notebook-cell:/Users/mcdermottspeakerarray/Documents/binaural_cocktail_party/msjspsych-main/experiment_word_recognition/gen_participant_trials.ipynb#X21sZmlsZQ%3D%3D?line=1'>2</a>\u001b[0m fn_exits \u001b[39m=\u001b[39m \u001b[39mlambda\u001b[39;00m x: Path(x)\u001b[39m.\u001b[39mexists()\n\u001b[0;32m----> <a href='vscode-notebook-cell:/Users/mcdermottspeakerarray/Documents/binaural_cocktail_party/msjspsych-main/experiment_word_recognition/gen_participant_trials.ipynb#X21sZmlsZQ%3D%3D?line=2'>3</a>\u001b[0m \u001b[39mprint\u001b[39m(manifest\u001b[39m.\u001b[39msrc_fn\u001b[39m.\u001b[39mmap(fn_exits)\u001b[39m.\u001b[39mall())\n\u001b[1;32m      <a href='vscode-notebook-cell:/Users/mcdermottspeakerarray/Documents/binaural_cocktail_party/msjspsych-main/experiment_word_recognition/gen_participant_trials.ipynb#X21sZmlsZQ%3D%3D?line=3'>4</a>\u001b[0m \u001b[39mprint\u001b[39m(manifest\u001b[39m.\u001b[39mdistractor_src_fn\u001b[39m.\u001b[39mmap(fn_exits)\u001b[39m.\u001b[39mall())\n\u001b[1;32m      <a href='vscode-notebook-cell:/Users/mcdermottspeakerarray/Documents/binaural_cocktail_party/msjspsych-main/experiment_word_recognition/gen_participant_trials.ipynb#X21sZmlsZQ%3D%3D?line=4'>5</a>\u001b[0m \u001b[39mprint\u001b[39m(manifest\u001b[39m.\u001b[39mcue_src_fn\u001b[39m.\u001b[39mmap(fn_exits)\u001b[39m.\u001b[39mall())\n",
      "\u001b[0;31mNameError\u001b[0m: name 'manifest' is not defined"
     ]
    }
   ],
   "source": [
    "from pathlib import Path\n",
    "fn_exits = lambda x: Path(x).exists()\n",
    "print(manifest.src_fn.map(fn_exits).all())\n",
    "print(manifest.distractor_src_fn.map(fn_exits).all())\n",
    "print(manifest.cue_src_fn.map(fn_exits).all())\n",
    "\n"
   ]
  }
 ],
 "metadata": {
  "kernelspec": {
   "display_name": "Python 3 (ipykernel)",
   "language": "python",
   "name": "python3"
  },
  "language_info": {
   "codemirror_mode": {
    "name": "ipython",
    "version": 3
   },
   "file_extension": ".py",
   "mimetype": "text/x-python",
   "name": "python",
   "nbconvert_exporter": "python",
   "pygments_lexer": "ipython3",
   "version": "3.10.4"
  },
  "orig_nbformat": 4
 },
 "nbformat": 4,
 "nbformat_minor": 2
}
